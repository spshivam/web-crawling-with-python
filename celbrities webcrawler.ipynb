{
 "cells": [
  {
   "cell_type": "code",
   "execution_count": 1,
   "metadata": {},
   "outputs": [],
   "source": [
    "from selenium import webdriver\n",
    "from bs4 import BeautifulSoup\n",
    "import pandas as pd\n",
    "import re"
   ]
  },
  {
   "cell_type": "code",
   "execution_count": 2,
   "metadata": {},
   "outputs": [],
   "source": [
    "driver = webdriver.Chrome(\"/users/shivam/chromedriver\")"
   ]
  },
  {
   "cell_type": "code",
   "execution_count": 3,
   "metadata": {},
   "outputs": [],
   "source": [
    "names=[] #List to store name of the product\n",
    "image_link = []\n",
    "driver.get(\"https://www.imdb.com/list/ls025929404/\")"
   ]
  },
  {
   "cell_type": "code",
   "execution_count": 4,
   "metadata": {},
   "outputs": [],
   "source": [
    "content = driver.page_source\n",
    "soup = BeautifulSoup(content)\n",
    "for a in soup.findAll('div',href=False, attrs={'class':'lister-item mode-detail'}):\n",
    "    name = re.search(\"alt=\\\"(.*)\\\" height\",str(a)).group(1)\n",
    "    link =  re.search(\"src=\\\"(.*)\\\" width\",str(a)).group(1)\n",
    "    names.append(name)\n",
    "    image_link.append(link)"
   ]
  },
  {
   "cell_type": "code",
   "execution_count": 5,
   "metadata": {},
   "outputs": [],
   "source": [
    "df = pd.DataFrame({'Name':names,'Image':image_link})"
   ]
  },
  {
   "cell_type": "code",
   "execution_count": 6,
   "metadata": {},
   "outputs": [],
   "source": [
    "df.to_csv('actor.csv', index=False, encoding='utf-8')"
   ]
  },
  {
   "cell_type": "code",
   "execution_count": 7,
   "metadata": {},
   "outputs": [
    {
     "data": {
      "text/html": [
       "<div>\n",
       "<style scoped>\n",
       "    .dataframe tbody tr th:only-of-type {\n",
       "        vertical-align: middle;\n",
       "    }\n",
       "\n",
       "    .dataframe tbody tr th {\n",
       "        vertical-align: top;\n",
       "    }\n",
       "\n",
       "    .dataframe thead th {\n",
       "        text-align: right;\n",
       "    }\n",
       "</style>\n",
       "<table border=\"1\" class=\"dataframe\">\n",
       "  <thead>\n",
       "    <tr style=\"text-align: right;\">\n",
       "      <th></th>\n",
       "      <th>Name</th>\n",
       "      <th>Image</th>\n",
       "    </tr>\n",
       "  </thead>\n",
       "  <tbody>\n",
       "    <tr>\n",
       "      <td>0</td>\n",
       "      <td>Dilip Kumar</td>\n",
       "      <td>https://m.media-amazon.com/images/M/MV5BMzg0NT...</td>\n",
       "    </tr>\n",
       "    <tr>\n",
       "      <td>1</td>\n",
       "      <td>Raj Kapoor</td>\n",
       "      <td>https://m.media-amazon.com/images/M/MV5BNjYwOD...</td>\n",
       "    </tr>\n",
       "    <tr>\n",
       "      <td>2</td>\n",
       "      <td>Dev Anand</td>\n",
       "      <td>https://m.media-amazon.com/images/M/MV5BMTk5MD...</td>\n",
       "    </tr>\n",
       "    <tr>\n",
       "      <td>3</td>\n",
       "      <td>Amitabh Bachchan</td>\n",
       "      <td>https://m.media-amazon.com/images/M/MV5BNTk1OT...</td>\n",
       "    </tr>\n",
       "    <tr>\n",
       "      <td>4</td>\n",
       "      <td>Salman Khan</td>\n",
       "      <td>https://m.media-amazon.com/images/M/MV5BMjMwNT...</td>\n",
       "    </tr>\n",
       "    <tr>\n",
       "      <td>...</td>\n",
       "      <td>...</td>\n",
       "      <td>...</td>\n",
       "    </tr>\n",
       "    <tr>\n",
       "      <td>95</td>\n",
       "      <td>Zayed Khan</td>\n",
       "      <td>https://m.media-amazon.com/images/M/MV5BMTA4NT...</td>\n",
       "    </tr>\n",
       "    <tr>\n",
       "      <td>96</td>\n",
       "      <td>Annu Kapoor</td>\n",
       "      <td>https://m.media-amazon.com/images/M/MV5BMjE4Mj...</td>\n",
       "    </tr>\n",
       "    <tr>\n",
       "      <td>97</td>\n",
       "      <td>Ayushmann Khurrana</td>\n",
       "      <td>https://m.media-amazon.com/images/M/MV5BOTk4MD...</td>\n",
       "    </tr>\n",
       "    <tr>\n",
       "      <td>98</td>\n",
       "      <td>Fawad Khan</td>\n",
       "      <td>https://m.media-amazon.com/images/M/MV5BYTllNW...</td>\n",
       "    </tr>\n",
       "    <tr>\n",
       "      <td>99</td>\n",
       "      <td>Arshad Warsi</td>\n",
       "      <td>https://m.media-amazon.com/images/M/MV5BNmMwOG...</td>\n",
       "    </tr>\n",
       "  </tbody>\n",
       "</table>\n",
       "<p>100 rows × 2 columns</p>\n",
       "</div>"
      ],
      "text/plain": [
       "                  Name                                              Image\n",
       "0          Dilip Kumar  https://m.media-amazon.com/images/M/MV5BMzg0NT...\n",
       "1           Raj Kapoor  https://m.media-amazon.com/images/M/MV5BNjYwOD...\n",
       "2            Dev Anand  https://m.media-amazon.com/images/M/MV5BMTk5MD...\n",
       "3     Amitabh Bachchan  https://m.media-amazon.com/images/M/MV5BNTk1OT...\n",
       "4          Salman Khan  https://m.media-amazon.com/images/M/MV5BMjMwNT...\n",
       "..                 ...                                                ...\n",
       "95          Zayed Khan  https://m.media-amazon.com/images/M/MV5BMTA4NT...\n",
       "96         Annu Kapoor  https://m.media-amazon.com/images/M/MV5BMjE4Mj...\n",
       "97  Ayushmann Khurrana  https://m.media-amazon.com/images/M/MV5BOTk4MD...\n",
       "98          Fawad Khan  https://m.media-amazon.com/images/M/MV5BYTllNW...\n",
       "99        Arshad Warsi  https://m.media-amazon.com/images/M/MV5BNmMwOG...\n",
       "\n",
       "[100 rows x 2 columns]"
      ]
     },
     "execution_count": 7,
     "metadata": {},
     "output_type": "execute_result"
    }
   ],
   "source": [
    "df"
   ]
  },
  {
   "cell_type": "code",
   "execution_count": null,
   "metadata": {},
   "outputs": [],
   "source": []
  },
  {
   "cell_type": "code",
   "execution_count": null,
   "metadata": {},
   "outputs": [],
   "source": []
  },
  {
   "cell_type": "code",
   "execution_count": null,
   "metadata": {},
   "outputs": [],
   "source": []
  }
 ],
 "metadata": {
  "kernelspec": {
   "display_name": "Python 3",
   "language": "python",
   "name": "python3"
  },
  "language_info": {
   "codemirror_mode": {
    "name": "ipython",
    "version": 3
   },
   "file_extension": ".py",
   "mimetype": "text/x-python",
   "name": "python",
   "nbconvert_exporter": "python",
   "pygments_lexer": "ipython3",
   "version": "3.7.4"
  }
 },
 "nbformat": 4,
 "nbformat_minor": 2
}
